{
 "cells": [
  {
   "cell_type": "code",
   "execution_count": 1,
   "metadata": {},
   "outputs": [],
   "source": [
    "import pandas as pd\n",
    "import numpy as np \n",
    "import matplotlib.pyplot as plt \n",
    "import seaborn as sns\n",
    "sns.set(style='darkgrid') \n",
    "%matplotlib inline"
   ]
  },
  {
   "cell_type": "markdown",
   "metadata": {},
   "source": [
    "# Importation des données"
   ]
  },
  {
   "cell_type": "code",
   "execution_count": 2,
   "metadata": {},
   "outputs": [
    {
     "data": {
      "text/html": [
       "<div>\n",
       "<style scoped>\n",
       "    .dataframe tbody tr th:only-of-type {\n",
       "        vertical-align: middle;\n",
       "    }\n",
       "\n",
       "    .dataframe tbody tr th {\n",
       "        vertical-align: top;\n",
       "    }\n",
       "\n",
       "    .dataframe thead th {\n",
       "        text-align: right;\n",
       "    }\n",
       "</style>\n",
       "<table border=\"1\" class=\"dataframe\">\n",
       "  <thead>\n",
       "    <tr style=\"text-align: right;\">\n",
       "      <th></th>\n",
       "      <th>Horodateur</th>\n",
       "      <th>Quel est le titre exact de votre post ? Ex : Développeur Mobile IOS</th>\n",
       "      <th>Combien d'années d'expériences avez-vous en Entreprise?</th>\n",
       "      <th>Quel était votre premier salaire en FCFA au Bénin ?</th>\n",
       "      <th>Quel est votre salaire actuel en FCFA au Bénin ?</th>\n",
       "      <th>Êtes-vous satisfait de votre rémunération mensuelle ?</th>\n",
       "    </tr>\n",
       "  </thead>\n",
       "  <tbody>\n",
       "    <tr>\n",
       "      <th>0</th>\n",
       "      <td>11/06/2021 16:22:47</td>\n",
       "      <td>Developeur Backend</td>\n",
       "      <td>1 an</td>\n",
       "      <td>125000</td>\n",
       "      <td>125000</td>\n",
       "      <td>2</td>\n",
       "    </tr>\n",
       "    <tr>\n",
       "      <th>1</th>\n",
       "      <td>11/06/2021 16:50:34</td>\n",
       "      <td>IT &amp; Data Analyste</td>\n",
       "      <td>3 à 5 ans</td>\n",
       "      <td>50000</td>\n",
       "      <td>420000</td>\n",
       "      <td>1</td>\n",
       "    </tr>\n",
       "    <tr>\n",
       "      <th>2</th>\n",
       "      <td>11/06/2021 17:11:11</td>\n",
       "      <td>Développeur Android et python</td>\n",
       "      <td>2 ans</td>\n",
       "      <td>150000</td>\n",
       "      <td>150000</td>\n",
       "      <td>3</td>\n",
       "    </tr>\n",
       "    <tr>\n",
       "      <th>3</th>\n",
       "      <td>11/06/2021 19:51:58</td>\n",
       "      <td>Développeur Web Frontend</td>\n",
       "      <td>Moins d'un an</td>\n",
       "      <td>100000</td>\n",
       "      <td>180000</td>\n",
       "      <td>2</td>\n",
       "    </tr>\n",
       "    <tr>\n",
       "      <th>4</th>\n",
       "      <td>11/06/2021 20:13:44</td>\n",
       "      <td>Full stack web developer</td>\n",
       "      <td>1 an</td>\n",
       "      <td>150000</td>\n",
       "      <td>200000</td>\n",
       "      <td>3</td>\n",
       "    </tr>\n",
       "  </tbody>\n",
       "</table>\n",
       "</div>"
      ],
      "text/plain": [
       "            Horodateur  \\\n",
       "0  11/06/2021 16:22:47   \n",
       "1  11/06/2021 16:50:34   \n",
       "2  11/06/2021 17:11:11   \n",
       "3  11/06/2021 19:51:58   \n",
       "4  11/06/2021 20:13:44   \n",
       "\n",
       "  Quel est le titre exact de votre post ? Ex : Développeur Mobile IOS  \\\n",
       "0                                 Developeur Backend                    \n",
       "1                                 IT & Data Analyste                    \n",
       "2                      Développeur Android et python                    \n",
       "3                           Développeur Web Frontend                    \n",
       "4                           Full stack web developer                    \n",
       "\n",
       "  Combien d'années d'expériences avez-vous en Entreprise?  \\\n",
       "0                                               1 an        \n",
       "1                                          3 à 5 ans        \n",
       "2                                              2 ans        \n",
       "3                                      Moins d'un an        \n",
       "4                                               1 an        \n",
       "\n",
       "  Quel était votre premier salaire en FCFA au Bénin ?  \\\n",
       "0                                             125000    \n",
       "1                                              50000    \n",
       "2                                             150000    \n",
       "3                                             100000    \n",
       "4                                             150000    \n",
       "\n",
       "  Quel est votre salaire actuel en FCFA au Bénin ?  \\\n",
       "0                                           125000   \n",
       "1                                           420000   \n",
       "2                                           150000   \n",
       "3                                           180000   \n",
       "4                                           200000   \n",
       "\n",
       "   Êtes-vous satisfait de votre rémunération mensuelle ?  \n",
       "0                                                  2      \n",
       "1                                                  1      \n",
       "2                                                  3      \n",
       "3                                                  2      \n",
       "4                                                  3      "
      ]
     },
     "execution_count": 2,
     "metadata": {},
     "output_type": "execute_result"
    }
   ],
   "source": [
    "data = pd.read_csv('salary_data.csv', delimiter=',')\n",
    "data.head()"
   ]
  },
  {
   "cell_type": "code",
   "execution_count": 3,
   "metadata": {},
   "outputs": [
    {
     "data": {
      "text/plain": [
       "(38, 6)"
      ]
     },
     "execution_count": 3,
     "metadata": {},
     "output_type": "execute_result"
    }
   ],
   "source": [
    "data.shape"
   ]
  },
  {
   "cell_type": "markdown",
   "metadata": {},
   "source": [
    "# Nettoyage des données\n",
    "\n",
    "Nous pouvons retirer la colonne **Horodateur**"
   ]
  },
  {
   "cell_type": "code",
   "execution_count": 4,
   "metadata": {},
   "outputs": [
    {
     "data": {
      "text/html": [
       "<div>\n",
       "<style scoped>\n",
       "    .dataframe tbody tr th:only-of-type {\n",
       "        vertical-align: middle;\n",
       "    }\n",
       "\n",
       "    .dataframe tbody tr th {\n",
       "        vertical-align: top;\n",
       "    }\n",
       "\n",
       "    .dataframe thead th {\n",
       "        text-align: right;\n",
       "    }\n",
       "</style>\n",
       "<table border=\"1\" class=\"dataframe\">\n",
       "  <thead>\n",
       "    <tr style=\"text-align: right;\">\n",
       "      <th></th>\n",
       "      <th>Quel est le titre exact de votre post ? Ex : Développeur Mobile IOS</th>\n",
       "      <th>Combien d'années d'expériences avez-vous en Entreprise?</th>\n",
       "      <th>Quel était votre premier salaire en FCFA au Bénin ?</th>\n",
       "      <th>Quel est votre salaire actuel en FCFA au Bénin ?</th>\n",
       "      <th>Êtes-vous satisfait de votre rémunération mensuelle ?</th>\n",
       "    </tr>\n",
       "  </thead>\n",
       "  <tbody>\n",
       "    <tr>\n",
       "      <th>0</th>\n",
       "      <td>Developeur Backend</td>\n",
       "      <td>1 an</td>\n",
       "      <td>125000</td>\n",
       "      <td>125000</td>\n",
       "      <td>2</td>\n",
       "    </tr>\n",
       "    <tr>\n",
       "      <th>1</th>\n",
       "      <td>IT &amp; Data Analyste</td>\n",
       "      <td>3 à 5 ans</td>\n",
       "      <td>50000</td>\n",
       "      <td>420000</td>\n",
       "      <td>1</td>\n",
       "    </tr>\n",
       "    <tr>\n",
       "      <th>2</th>\n",
       "      <td>Développeur Android et python</td>\n",
       "      <td>2 ans</td>\n",
       "      <td>150000</td>\n",
       "      <td>150000</td>\n",
       "      <td>3</td>\n",
       "    </tr>\n",
       "    <tr>\n",
       "      <th>3</th>\n",
       "      <td>Développeur Web Frontend</td>\n",
       "      <td>Moins d'un an</td>\n",
       "      <td>100000</td>\n",
       "      <td>180000</td>\n",
       "      <td>2</td>\n",
       "    </tr>\n",
       "    <tr>\n",
       "      <th>4</th>\n",
       "      <td>Full stack web developer</td>\n",
       "      <td>1 an</td>\n",
       "      <td>150000</td>\n",
       "      <td>200000</td>\n",
       "      <td>3</td>\n",
       "    </tr>\n",
       "    <tr>\n",
       "      <th>5</th>\n",
       "      <td>IT Project Manager</td>\n",
       "      <td>3 à 5 ans</td>\n",
       "      <td>160.000FCFA</td>\n",
       "      <td>300.000FCFA</td>\n",
       "      <td>1</td>\n",
       "    </tr>\n",
       "    <tr>\n",
       "      <th>6</th>\n",
       "      <td>UX/UI DESIGNER</td>\n",
       "      <td>2 ans</td>\n",
       "      <td>50.000FCFA</td>\n",
       "      <td>100.000FCFA</td>\n",
       "      <td>1</td>\n",
       "    </tr>\n",
       "    <tr>\n",
       "      <th>7</th>\n",
       "      <td>Développeur Front-end</td>\n",
       "      <td>Moins d'un an</td>\n",
       "      <td>100000</td>\n",
       "      <td>180000</td>\n",
       "      <td>1</td>\n",
       "    </tr>\n",
       "    <tr>\n",
       "      <th>8</th>\n",
       "      <td>Développeur Angular</td>\n",
       "      <td>3 à 5 ans</td>\n",
       "      <td>60000</td>\n",
       "      <td>250000</td>\n",
       "      <td>2</td>\n",
       "    </tr>\n",
       "    <tr>\n",
       "      <th>9</th>\n",
       "      <td>Développeur web</td>\n",
       "      <td>3 à 5 ans</td>\n",
       "      <td>50000</td>\n",
       "      <td>500000</td>\n",
       "      <td>4</td>\n",
       "    </tr>\n",
       "    <tr>\n",
       "      <th>10</th>\n",
       "      <td>DevOps</td>\n",
       "      <td>3 à 5 ans</td>\n",
       "      <td>150000</td>\n",
       "      <td>400000</td>\n",
       "      <td>1</td>\n",
       "    </tr>\n",
       "    <tr>\n",
       "      <th>11</th>\n",
       "      <td>Lead developer</td>\n",
       "      <td>2 ans</td>\n",
       "      <td>30mille</td>\n",
       "      <td>150</td>\n",
       "      <td>1</td>\n",
       "    </tr>\n",
       "    <tr>\n",
       "      <th>12</th>\n",
       "      <td>Développeur Web Full Stack</td>\n",
       "      <td>3 à 5 ans</td>\n",
       "      <td>100000</td>\n",
       "      <td>380000</td>\n",
       "      <td>2</td>\n",
       "    </tr>\n",
       "    <tr>\n",
       "      <th>13</th>\n",
       "      <td>Full Stack Dev</td>\n",
       "      <td>Plus de 5 ans</td>\n",
       "      <td>120000</td>\n",
       "      <td>438000</td>\n",
       "      <td>1</td>\n",
       "    </tr>\n",
       "    <tr>\n",
       "      <th>14</th>\n",
       "      <td>Developer back-end</td>\n",
       "      <td>2 ans</td>\n",
       "      <td>100000</td>\n",
       "      <td>300000</td>\n",
       "      <td>3</td>\n",
       "    </tr>\n",
       "    <tr>\n",
       "      <th>15</th>\n",
       "      <td>Développeur front end</td>\n",
       "      <td>3 à 5 ans</td>\n",
       "      <td>150000</td>\n",
       "      <td>200000</td>\n",
       "      <td>2</td>\n",
       "    </tr>\n",
       "    <tr>\n",
       "      <th>16</th>\n",
       "      <td>Développeur Front-end</td>\n",
       "      <td>3 à 5 ans</td>\n",
       "      <td>50.000</td>\n",
       "      <td>150.000</td>\n",
       "      <td>1</td>\n",
       "    </tr>\n",
       "    <tr>\n",
       "      <th>17</th>\n",
       "      <td>Data Analyst</td>\n",
       "      <td>Stagiaire, Moins d'un an</td>\n",
       "      <td>50000</td>\n",
       "      <td>500000</td>\n",
       "      <td>5</td>\n",
       "    </tr>\n",
       "    <tr>\n",
       "      <th>18</th>\n",
       "      <td>Frontend dev</td>\n",
       "      <td>2 ans</td>\n",
       "      <td>30.000</td>\n",
       "      <td>180.000</td>\n",
       "      <td>3</td>\n",
       "    </tr>\n",
       "    <tr>\n",
       "      <th>19</th>\n",
       "      <td>Devops</td>\n",
       "      <td>2 ans</td>\n",
       "      <td>40000</td>\n",
       "      <td>1000000</td>\n",
       "      <td>3</td>\n",
       "    </tr>\n",
       "    <tr>\n",
       "      <th>20</th>\n",
       "      <td>Project Manager Junior</td>\n",
       "      <td>Moins d'un an</td>\n",
       "      <td>50000</td>\n",
       "      <td>50000</td>\n",
       "      <td>1</td>\n",
       "    </tr>\n",
       "    <tr>\n",
       "      <th>21</th>\n",
       "      <td>Data Analyst</td>\n",
       "      <td>3 à 5 ans</td>\n",
       "      <td>350000</td>\n",
       "      <td>500000</td>\n",
       "      <td>3</td>\n",
       "    </tr>\n",
       "    <tr>\n",
       "      <th>22</th>\n",
       "      <td>Développeur Web Backend</td>\n",
       "      <td>3 à 5 ans</td>\n",
       "      <td>100000</td>\n",
       "      <td>200000</td>\n",
       "      <td>3</td>\n",
       "    </tr>\n",
       "    <tr>\n",
       "      <th>23</th>\n",
       "      <td>Chef de projet web et mobile</td>\n",
       "      <td>3 à 5 ans</td>\n",
       "      <td>400000</td>\n",
       "      <td>1000000</td>\n",
       "      <td>3</td>\n",
       "    </tr>\n",
       "    <tr>\n",
       "      <th>24</th>\n",
       "      <td>Développeur web et mobile</td>\n",
       "      <td>Moins d'un an</td>\n",
       "      <td>100000</td>\n",
       "      <td>100000</td>\n",
       "      <td>1</td>\n",
       "    </tr>\n",
       "    <tr>\n",
       "      <th>25</th>\n",
       "      <td>Développeur Web</td>\n",
       "      <td>Stagiaire</td>\n",
       "      <td>25000</td>\n",
       "      <td>50000</td>\n",
       "      <td>4</td>\n",
       "    </tr>\n",
       "    <tr>\n",
       "      <th>26</th>\n",
       "      <td>Développeur Web</td>\n",
       "      <td>2 ans</td>\n",
       "      <td>100000</td>\n",
       "      <td>150000</td>\n",
       "      <td>1</td>\n",
       "    </tr>\n",
       "    <tr>\n",
       "      <th>27</th>\n",
       "      <td>Big Data Manager</td>\n",
       "      <td>Moins d'un an</td>\n",
       "      <td>200000</td>\n",
       "      <td>200000</td>\n",
       "      <td>1</td>\n",
       "    </tr>\n",
       "    <tr>\n",
       "      <th>28</th>\n",
       "      <td>Manager</td>\n",
       "      <td>Plus de 10 ans</td>\n",
       "      <td>160000</td>\n",
       "      <td>978344</td>\n",
       "      <td>1</td>\n",
       "    </tr>\n",
       "    <tr>\n",
       "      <th>29</th>\n",
       "      <td>Développeur web et mobile</td>\n",
       "      <td>3 à 5 ans</td>\n",
       "      <td>100000</td>\n",
       "      <td>200000</td>\n",
       "      <td>1</td>\n",
       "    </tr>\n",
       "    <tr>\n",
       "      <th>30</th>\n",
       "      <td>Développeur Web</td>\n",
       "      <td>Plus de 5 ans</td>\n",
       "      <td>50.000 FCFA</td>\n",
       "      <td>200.000fcfa</td>\n",
       "      <td>3</td>\n",
       "    </tr>\n",
       "    <tr>\n",
       "      <th>31</th>\n",
       "      <td>Chef Division Applications et Base de Données</td>\n",
       "      <td>Plus de 5 ans</td>\n",
       "      <td>50000</td>\n",
       "      <td>375000</td>\n",
       "      <td>2</td>\n",
       "    </tr>\n",
       "    <tr>\n",
       "      <th>32</th>\n",
       "      <td>Développeur Web FullStack et Mobile</td>\n",
       "      <td>2 ans</td>\n",
       "      <td>75.000</td>\n",
       "      <td>160.000</td>\n",
       "      <td>2</td>\n",
       "    </tr>\n",
       "    <tr>\n",
       "      <th>33</th>\n",
       "      <td>Ingénieur réseau, système et securité</td>\n",
       "      <td>Plus de 5 ans</td>\n",
       "      <td>400.000</td>\n",
       "      <td>500.000</td>\n",
       "      <td>2</td>\n",
       "    </tr>\n",
       "    <tr>\n",
       "      <th>34</th>\n",
       "      <td>Développeur JEE</td>\n",
       "      <td>3 à 5 ans</td>\n",
       "      <td>73325</td>\n",
       "      <td>225000</td>\n",
       "      <td>2</td>\n",
       "    </tr>\n",
       "    <tr>\n",
       "      <th>35</th>\n",
       "      <td>Assistant technique</td>\n",
       "      <td>Moins d'un an</td>\n",
       "      <td>125000</td>\n",
       "      <td>125000</td>\n",
       "      <td>3</td>\n",
       "    </tr>\n",
       "    <tr>\n",
       "      <th>36</th>\n",
       "      <td>Développeur Web (Back end et front end)</td>\n",
       "      <td>Plus de 10 ans</td>\n",
       "      <td>120000</td>\n",
       "      <td>500000</td>\n",
       "      <td>3</td>\n",
       "    </tr>\n",
       "    <tr>\n",
       "      <th>37</th>\n",
       "      <td>Développeur web</td>\n",
       "      <td>1 an</td>\n",
       "      <td>0</td>\n",
       "      <td>40000</td>\n",
       "      <td>1</td>\n",
       "    </tr>\n",
       "  </tbody>\n",
       "</table>\n",
       "</div>"
      ],
      "text/plain": [
       "   Quel est le titre exact de votre post ? Ex : Développeur Mobile IOS  \\\n",
       "0                                  Developeur Backend                    \n",
       "1                                  IT & Data Analyste                    \n",
       "2                       Développeur Android et python                    \n",
       "3                            Développeur Web Frontend                    \n",
       "4                            Full stack web developer                    \n",
       "5                                 IT Project Manager                     \n",
       "6                                     UX/UI DESIGNER                     \n",
       "7                               Développeur Front-end                    \n",
       "8                                 Développeur Angular                    \n",
       "9                                     Développeur web                    \n",
       "10                                             DevOps                    \n",
       "11                                     Lead developer                    \n",
       "12                         Développeur Web Full Stack                    \n",
       "13                                     Full Stack Dev                    \n",
       "14                                 Developer back-end                    \n",
       "15                              Développeur front end                    \n",
       "16                              Développeur Front-end                    \n",
       "17                                      Data Analyst                     \n",
       "18                                       Frontend dev                    \n",
       "19                                             Devops                    \n",
       "20                             Project Manager Junior                    \n",
       "21                                       Data Analyst                    \n",
       "22                            Développeur Web Backend                    \n",
       "23                       Chef de projet web et mobile                    \n",
       "24                         Développeur web et mobile                     \n",
       "25                                    Développeur Web                    \n",
       "26                                    Développeur Web                    \n",
       "27                                   Big Data Manager                    \n",
       "28                                            Manager                    \n",
       "29                          Développeur web et mobile                    \n",
       "30                                    Développeur Web                    \n",
       "31      Chef Division Applications et Base de Données                    \n",
       "32               Développeur Web FullStack et Mobile                     \n",
       "33              Ingénieur réseau, système et securité                    \n",
       "34                                    Développeur JEE                    \n",
       "35                               Assistant technique                     \n",
       "36           Développeur Web (Back end et front end)                     \n",
       "37                                    Développeur web                    \n",
       "\n",
       "   Combien d'années d'expériences avez-vous en Entreprise?  \\\n",
       "0                                                1 an        \n",
       "1                                           3 à 5 ans        \n",
       "2                                               2 ans        \n",
       "3                                       Moins d'un an        \n",
       "4                                                1 an        \n",
       "5                                           3 à 5 ans        \n",
       "6                                               2 ans        \n",
       "7                                       Moins d'un an        \n",
       "8                                           3 à 5 ans        \n",
       "9                                           3 à 5 ans        \n",
       "10                                          3 à 5 ans        \n",
       "11                                              2 ans        \n",
       "12                                          3 à 5 ans        \n",
       "13                                      Plus de 5 ans        \n",
       "14                                              2 ans        \n",
       "15                                          3 à 5 ans        \n",
       "16                                          3 à 5 ans        \n",
       "17                           Stagiaire, Moins d'un an        \n",
       "18                                              2 ans        \n",
       "19                                              2 ans        \n",
       "20                                      Moins d'un an        \n",
       "21                                          3 à 5 ans        \n",
       "22                                          3 à 5 ans        \n",
       "23                                          3 à 5 ans        \n",
       "24                                      Moins d'un an        \n",
       "25                                          Stagiaire        \n",
       "26                                              2 ans        \n",
       "27                                      Moins d'un an        \n",
       "28                                     Plus de 10 ans        \n",
       "29                                          3 à 5 ans        \n",
       "30                                      Plus de 5 ans        \n",
       "31                                      Plus de 5 ans        \n",
       "32                                              2 ans        \n",
       "33                                      Plus de 5 ans        \n",
       "34                                          3 à 5 ans        \n",
       "35                                      Moins d'un an        \n",
       "36                                     Plus de 10 ans        \n",
       "37                                               1 an        \n",
       "\n",
       "   Quel était votre premier salaire en FCFA au Bénin ?  \\\n",
       "0                                              125000    \n",
       "1                                               50000    \n",
       "2                                              150000    \n",
       "3                                              100000    \n",
       "4                                              150000    \n",
       "5                                         160.000FCFA    \n",
       "6                                          50.000FCFA    \n",
       "7                                              100000    \n",
       "8                                               60000    \n",
       "9                                               50000    \n",
       "10                                             150000    \n",
       "11                                            30mille    \n",
       "12                                             100000    \n",
       "13                                             120000    \n",
       "14                                             100000    \n",
       "15                                             150000    \n",
       "16                                             50.000    \n",
       "17                                              50000    \n",
       "18                                             30.000    \n",
       "19                                              40000    \n",
       "20                                              50000    \n",
       "21                                             350000    \n",
       "22                                             100000    \n",
       "23                                             400000    \n",
       "24                                             100000    \n",
       "25                                              25000    \n",
       "26                                             100000    \n",
       "27                                             200000    \n",
       "28                                             160000    \n",
       "29                                             100000    \n",
       "30                                        50.000 FCFA    \n",
       "31                                              50000    \n",
       "32                                             75.000    \n",
       "33                                            400.000    \n",
       "34                                              73325    \n",
       "35                                             125000    \n",
       "36                                             120000    \n",
       "37                                                  0    \n",
       "\n",
       "   Quel est votre salaire actuel en FCFA au Bénin ?  \\\n",
       "0                                            125000   \n",
       "1                                            420000   \n",
       "2                                            150000   \n",
       "3                                            180000   \n",
       "4                                            200000   \n",
       "5                                       300.000FCFA   \n",
       "6                                       100.000FCFA   \n",
       "7                                            180000   \n",
       "8                                            250000   \n",
       "9                                            500000   \n",
       "10                                           400000   \n",
       "11                                              150   \n",
       "12                                           380000   \n",
       "13                                           438000   \n",
       "14                                           300000   \n",
       "15                                           200000   \n",
       "16                                          150.000   \n",
       "17                                           500000   \n",
       "18                                          180.000   \n",
       "19                                          1000000   \n",
       "20                                            50000   \n",
       "21                                           500000   \n",
       "22                                           200000   \n",
       "23                                          1000000   \n",
       "24                                           100000   \n",
       "25                                            50000   \n",
       "26                                           150000   \n",
       "27                                           200000   \n",
       "28                                           978344   \n",
       "29                                           200000   \n",
       "30                                      200.000fcfa   \n",
       "31                                           375000   \n",
       "32                                          160.000   \n",
       "33                                          500.000   \n",
       "34                                           225000   \n",
       "35                                           125000   \n",
       "36                                           500000   \n",
       "37                                            40000   \n",
       "\n",
       "    Êtes-vous satisfait de votre rémunération mensuelle ?  \n",
       "0                                                   2      \n",
       "1                                                   1      \n",
       "2                                                   3      \n",
       "3                                                   2      \n",
       "4                                                   3      \n",
       "5                                                   1      \n",
       "6                                                   1      \n",
       "7                                                   1      \n",
       "8                                                   2      \n",
       "9                                                   4      \n",
       "10                                                  1      \n",
       "11                                                  1      \n",
       "12                                                  2      \n",
       "13                                                  1      \n",
       "14                                                  3      \n",
       "15                                                  2      \n",
       "16                                                  1      \n",
       "17                                                  5      \n",
       "18                                                  3      \n",
       "19                                                  3      \n",
       "20                                                  1      \n",
       "21                                                  3      \n",
       "22                                                  3      \n",
       "23                                                  3      \n",
       "24                                                  1      \n",
       "25                                                  4      \n",
       "26                                                  1      \n",
       "27                                                  1      \n",
       "28                                                  1      \n",
       "29                                                  1      \n",
       "30                                                  3      \n",
       "31                                                  2      \n",
       "32                                                  2      \n",
       "33                                                  2      \n",
       "34                                                  2      \n",
       "35                                                  3      \n",
       "36                                                  3      \n",
       "37                                                  1      "
      ]
     },
     "execution_count": 4,
     "metadata": {},
     "output_type": "execute_result"
    }
   ],
   "source": [
    "data = data.drop(columns=\"Horodateur\") # ou utiliser del data['Horodateur']\n",
    "\n",
    "data"
   ]
  },
  {
   "cell_type": "markdown",
   "metadata": {},
   "source": [
    "Essayons de renomer les differentes colonnes,les noms actuels etabt trop long"
   ]
  },
  {
   "cell_type": "code",
   "execution_count": 5,
   "metadata": {},
   "outputs": [],
   "source": [
    "columns = ['poste', 'experience', 'salaire_debut', 'salaire_actuel', 'satisfaction']\n",
    "data.columns = columns"
   ]
  },
  {
   "cell_type": "code",
   "execution_count": 6,
   "metadata": {},
   "outputs": [
    {
     "data": {
      "text/html": [
       "<div>\n",
       "<style scoped>\n",
       "    .dataframe tbody tr th:only-of-type {\n",
       "        vertical-align: middle;\n",
       "    }\n",
       "\n",
       "    .dataframe tbody tr th {\n",
       "        vertical-align: top;\n",
       "    }\n",
       "\n",
       "    .dataframe thead th {\n",
       "        text-align: right;\n",
       "    }\n",
       "</style>\n",
       "<table border=\"1\" class=\"dataframe\">\n",
       "  <thead>\n",
       "    <tr style=\"text-align: right;\">\n",
       "      <th></th>\n",
       "      <th>poste</th>\n",
       "      <th>experience</th>\n",
       "      <th>salaire_debut</th>\n",
       "      <th>salaire_actuel</th>\n",
       "      <th>satisfaction</th>\n",
       "    </tr>\n",
       "  </thead>\n",
       "  <tbody>\n",
       "    <tr>\n",
       "      <th>0</th>\n",
       "      <td>Developeur Backend</td>\n",
       "      <td>1 an</td>\n",
       "      <td>125000</td>\n",
       "      <td>125000</td>\n",
       "      <td>2</td>\n",
       "    </tr>\n",
       "    <tr>\n",
       "      <th>1</th>\n",
       "      <td>IT &amp; Data Analyste</td>\n",
       "      <td>3 à 5 ans</td>\n",
       "      <td>50000</td>\n",
       "      <td>420000</td>\n",
       "      <td>1</td>\n",
       "    </tr>\n",
       "    <tr>\n",
       "      <th>2</th>\n",
       "      <td>Développeur Android et python</td>\n",
       "      <td>2 ans</td>\n",
       "      <td>150000</td>\n",
       "      <td>150000</td>\n",
       "      <td>3</td>\n",
       "    </tr>\n",
       "    <tr>\n",
       "      <th>3</th>\n",
       "      <td>Développeur Web Frontend</td>\n",
       "      <td>Moins d'un an</td>\n",
       "      <td>100000</td>\n",
       "      <td>180000</td>\n",
       "      <td>2</td>\n",
       "    </tr>\n",
       "    <tr>\n",
       "      <th>4</th>\n",
       "      <td>Full stack web developer</td>\n",
       "      <td>1 an</td>\n",
       "      <td>150000</td>\n",
       "      <td>200000</td>\n",
       "      <td>3</td>\n",
       "    </tr>\n",
       "  </tbody>\n",
       "</table>\n",
       "</div>"
      ],
      "text/plain": [
       "                           poste     experience salaire_debut salaire_actuel  \\\n",
       "0             Developeur Backend           1 an        125000         125000   \n",
       "1             IT & Data Analyste      3 à 5 ans         50000         420000   \n",
       "2  Développeur Android et python          2 ans        150000         150000   \n",
       "3       Développeur Web Frontend  Moins d'un an        100000         180000   \n",
       "4       Full stack web developer           1 an        150000         200000   \n",
       "\n",
       "   satisfaction  \n",
       "0             2  \n",
       "1             1  \n",
       "2             3  \n",
       "3             2  \n",
       "4             3  "
      ]
     },
     "execution_count": 6,
     "metadata": {},
     "output_type": "execute_result"
    }
   ],
   "source": [
    "data.head()"
   ]
  },
  {
   "cell_type": "markdown",
   "metadata": {},
   "source": [
    "Verifions le type de données de chasuer colonne"
   ]
  },
  {
   "cell_type": "code",
   "execution_count": 7,
   "metadata": {},
   "outputs": [
    {
     "name": "stdout",
     "output_type": "stream",
     "text": [
      "<class 'pandas.core.frame.DataFrame'>\n",
      "RangeIndex: 38 entries, 0 to 37\n",
      "Data columns (total 5 columns):\n",
      " #   Column          Non-Null Count  Dtype \n",
      "---  ------          --------------  ----- \n",
      " 0   poste           38 non-null     object\n",
      " 1   experience      38 non-null     object\n",
      " 2   salaire_debut   38 non-null     object\n",
      " 3   salaire_actuel  38 non-null     object\n",
      " 4   satisfaction    38 non-null     int64 \n",
      "dtypes: int64(1), object(4)\n",
      "memory usage: 1.6+ KB\n"
     ]
    }
   ],
   "source": [
    "data.info()"
   ]
  },
  {
   "cell_type": "markdown",
   "metadata": {},
   "source": [
    "La colonne est de type int. Examinons les colonnes salures_debut et salaire_actuel qui devrait etre egalement de type int"
   ]
  },
  {
   "cell_type": "code",
   "execution_count": 8,
   "metadata": {},
   "outputs": [
    {
     "data": {
      "text/plain": [
       "array(['125000', '50000', '150000', '100000', '160.000FCFA', '50.000FCFA',\n",
       "       '60000', '30mille', '120000', '50.000', '30.000', '40000',\n",
       "       '350000', '400000', '25000', '200000', '160000', '50.000 FCFA',\n",
       "       '75.000', '400.000', '73325', '0'], dtype=object)"
      ]
     },
     "execution_count": 8,
     "metadata": {},
     "output_type": "execute_result"
    }
   ],
   "source": [
    "data['salaire_debut'].unique()"
   ]
  },
  {
   "cell_type": "code",
   "execution_count": 9,
   "metadata": {},
   "outputs": [
    {
     "data": {
      "text/plain": [
       "array(['125000', '420000', '150000', '180000', '200000', '300.000FCFA',\n",
       "       '100.000FCFA', '250000', '500000', '400000', '150', '380000',\n",
       "       '438000', '300000', '150.000', '180.000', '1000000', '50000',\n",
       "       '100000', '978344', '200.000fcfa', '375000', '160.000', '500.000',\n",
       "       '225000', '40000'], dtype=object)"
      ]
     },
     "execution_count": 9,
     "metadata": {},
     "output_type": "execute_result"
    }
   ],
   "source": [
    "data['salaire_actuel'].unique()"
   ]
  },
  {
   "cell_type": "markdown",
   "metadata": {},
   "source": [
    "On remarque que :\n",
    "- Nous disposons d'un grand nombre de salaire different, ce qui est bien pour notre analyse\n",
    "- Certaines reponse ont la devise fcfa, ce qu'il faudra effacer\n",
    "- Certaines reponses ont un point à l'interieur ou simplement la seconde partie en tout lettre pour facilieter la lecture du montant. Il faut les enlever et les nettoyer egalement.\n",
    "\n",
    "Ecrivons la fonction de nettoyage :"
   ]
  },
  {
   "cell_type": "code",
   "execution_count": 10,
   "metadata": {},
   "outputs": [],
   "source": [
    "def clean_salary(salary):\n",
    "    salary = salary.lower() #transformer tous les FCFA en fcfa\n",
    "    to_remove = ['fcfa', '.', 'mille']\n",
    "\n",
    "    for chaine in to_remove:\n",
    "        if chaine == 'mille':\n",
    "            salary = salary.replace(chaine,'000')\n",
    "        salary = salary.replace(chaine, '')\n",
    "    return salary"
   ]
  },
  {
   "cell_type": "code",
   "execution_count": 11,
   "metadata": {},
   "outputs": [],
   "source": [
    "data['salaire_debut'] = data['salaire_debut'].apply(clean_salary)\n",
    "data['salaire_actuel'] = data['salaire_actuel'].apply(clean_salary)"
   ]
  },
  {
   "cell_type": "code",
   "execution_count": 12,
   "metadata": {},
   "outputs": [
    {
     "data": {
      "text/plain": [
       "array(['125000', '50000', '150000', '100000', '160000', '60000', '30000',\n",
       "       '120000', '40000', '350000', '400000', '25000', '200000', '50000 ',\n",
       "       '75000', '73325', '0'], dtype=object)"
      ]
     },
     "execution_count": 12,
     "metadata": {},
     "output_type": "execute_result"
    }
   ],
   "source": [
    "data['salaire_debut'].unique()"
   ]
  },
  {
   "cell_type": "code",
   "execution_count": 13,
   "metadata": {},
   "outputs": [
    {
     "data": {
      "text/plain": [
       "array(['125000', '420000', '150000', '180000', '200000', '300000',\n",
       "       '100000', '250000', '500000', '400000', '150', '380000', '438000',\n",
       "       '1000000', '50000', '978344', '375000', '160000', '225000',\n",
       "       '40000'], dtype=object)"
      ]
     },
     "execution_count": 13,
     "metadata": {},
     "output_type": "execute_result"
    }
   ],
   "source": [
    "data['salaire_actuel'].unique()"
   ]
  },
  {
   "cell_type": "markdown",
   "metadata": {},
   "source": [
    "Désormais, nous n'avons plus que des nombres. Mais ce n'est pas fini. Nous avons un outlier 150 dans la colonne salaire actuel et de 0 dans le salire debut. Examinons les autres reponses de ces personnes"
   ]
  },
  {
   "cell_type": "code",
   "execution_count": 14,
   "metadata": {},
   "outputs": [
    {
     "data": {
      "text/html": [
       "<div>\n",
       "<style scoped>\n",
       "    .dataframe tbody tr th:only-of-type {\n",
       "        vertical-align: middle;\n",
       "    }\n",
       "\n",
       "    .dataframe tbody tr th {\n",
       "        vertical-align: top;\n",
       "    }\n",
       "\n",
       "    .dataframe thead th {\n",
       "        text-align: right;\n",
       "    }\n",
       "</style>\n",
       "<table border=\"1\" class=\"dataframe\">\n",
       "  <thead>\n",
       "    <tr style=\"text-align: right;\">\n",
       "      <th></th>\n",
       "      <th>poste</th>\n",
       "      <th>experience</th>\n",
       "      <th>salaire_debut</th>\n",
       "      <th>salaire_actuel</th>\n",
       "      <th>satisfaction</th>\n",
       "    </tr>\n",
       "  </thead>\n",
       "  <tbody>\n",
       "    <tr>\n",
       "      <th>11</th>\n",
       "      <td>Lead developer</td>\n",
       "      <td>2 ans</td>\n",
       "      <td>30000</td>\n",
       "      <td>150</td>\n",
       "      <td>1</td>\n",
       "    </tr>\n",
       "  </tbody>\n",
       "</table>\n",
       "</div>"
      ],
      "text/plain": [
       "             poste experience salaire_debut salaire_actuel  satisfaction\n",
       "11  Lead developer      2 ans         30000            150             1"
      ]
     },
     "execution_count": 14,
     "metadata": {},
     "output_type": "execute_result"
    }
   ],
   "source": [
    "data[data['salaire_actuel'] == '150'] "
   ]
  },
  {
   "cell_type": "markdown",
   "metadata": {},
   "source": [
    "Un salaire début de 30000 et un salaire actuel de 150 est invraisemblable pour un Lead developer avec 2 ans d'expérience. Il s'agit probalement de 150 000 FCFA. Modifions cela"
   ]
  },
  {
   "cell_type": "code",
   "execution_count": 15,
   "metadata": {},
   "outputs": [],
   "source": [
    "data.at[11,'salaire_actuel'] = '150000'"
   ]
  },
  {
   "cell_type": "code",
   "execution_count": 16,
   "metadata": {},
   "outputs": [
    {
     "data": {
      "text/plain": [
       "poste             Lead developer\n",
       "experience                 2 ans\n",
       "salaire_debut              30000\n",
       "salaire_actuel            150000\n",
       "satisfaction                   1\n",
       "Name: 11, dtype: object"
      ]
     },
     "execution_count": 16,
     "metadata": {},
     "output_type": "execute_result"
    }
   ],
   "source": [
    "data.iloc[11]"
   ]
  },
  {
   "cell_type": "code",
   "execution_count": 17,
   "metadata": {},
   "outputs": [
    {
     "data": {
      "text/html": [
       "<div>\n",
       "<style scoped>\n",
       "    .dataframe tbody tr th:only-of-type {\n",
       "        vertical-align: middle;\n",
       "    }\n",
       "\n",
       "    .dataframe tbody tr th {\n",
       "        vertical-align: top;\n",
       "    }\n",
       "\n",
       "    .dataframe thead th {\n",
       "        text-align: right;\n",
       "    }\n",
       "</style>\n",
       "<table border=\"1\" class=\"dataframe\">\n",
       "  <thead>\n",
       "    <tr style=\"text-align: right;\">\n",
       "      <th></th>\n",
       "      <th>poste</th>\n",
       "      <th>experience</th>\n",
       "      <th>salaire_debut</th>\n",
       "      <th>salaire_actuel</th>\n",
       "      <th>satisfaction</th>\n",
       "    </tr>\n",
       "  </thead>\n",
       "  <tbody>\n",
       "    <tr>\n",
       "      <th>37</th>\n",
       "      <td>Développeur web</td>\n",
       "      <td>1 an</td>\n",
       "      <td>0</td>\n",
       "      <td>40000</td>\n",
       "      <td>1</td>\n",
       "    </tr>\n",
       "  </tbody>\n",
       "</table>\n",
       "</div>"
      ],
      "text/plain": [
       "              poste experience salaire_debut salaire_actuel  satisfaction\n",
       "37  Développeur web       1 an             0          40000             1"
      ]
     },
     "execution_count": 17,
     "metadata": {},
     "output_type": "execute_result"
    }
   ],
   "source": [
    "data[data['salaire_debut'] == '0'] "
   ]
  },
  {
   "cell_type": "markdown",
   "metadata": {},
   "source": [
    "Il s'agit là d'un développeur avec une année d'expérience. Un salaire début de 0 peut supposer qu'il s'agissait d'un stage non remunéré. On peut donc garder cette ligne telle.\n",
    "\n",
    "Nous pouvons maintenant convertir ces colonnes de type object à int"
   ]
  },
  {
   "cell_type": "code",
   "execution_count": 18,
   "metadata": {},
   "outputs": [],
   "source": [
    "data[['salaire_debut', 'salaire_actuel']] = data[['salaire_debut', 'salaire_actuel']].astype('int')"
   ]
  },
  {
   "cell_type": "code",
   "execution_count": 19,
   "metadata": {},
   "outputs": [
    {
     "name": "stdout",
     "output_type": "stream",
     "text": [
      "<class 'pandas.core.frame.DataFrame'>\n",
      "RangeIndex: 38 entries, 0 to 37\n",
      "Data columns (total 5 columns):\n",
      " #   Column          Non-Null Count  Dtype \n",
      "---  ------          --------------  ----- \n",
      " 0   poste           38 non-null     object\n",
      " 1   experience      38 non-null     object\n",
      " 2   salaire_debut   38 non-null     int32 \n",
      " 3   salaire_actuel  38 non-null     int32 \n",
      " 4   satisfaction    38 non-null     int64 \n",
      "dtypes: int32(2), int64(1), object(2)\n",
      "memory usage: 1.3+ KB\n"
     ]
    }
   ],
   "source": [
    "data.info()"
   ]
  },
  {
   "cell_type": "markdown",
   "metadata": {},
   "source": [
    "Considérons désormais la colonne expérience :"
   ]
  },
  {
   "cell_type": "code",
   "execution_count": 20,
   "metadata": {},
   "outputs": [
    {
     "data": {
      "text/plain": [
       "array(['1 an', '3 à 5 ans', '2 ans', \"Moins d'un an\", 'Plus de 5 ans',\n",
       "       \"Stagiaire, Moins d'un an\", 'Stagiaire', 'Plus de 10 ans'],\n",
       "      dtype=object)"
      ]
     },
     "execution_count": 20,
     "metadata": {},
     "output_type": "execute_result"
    }
   ],
   "source": [
    "data['experience'].unique()"
   ]
  },
  {
   "cell_type": "markdown",
   "metadata": {},
   "source": [
    "Il s'agit de catégories donc on peut ne pas modifier cette catégorie.\n",
    "\n",
    "C'est donc la fin de notre nettoyage de données. Nous pouvons désormais passé à une analyse exploratoire."
   ]
  },
  {
   "cell_type": "markdown",
   "metadata": {},
   "source": [
    "# Analyse exploratoire"
   ]
  },
  {
   "cell_type": "code",
   "execution_count": 21,
   "metadata": {},
   "outputs": [
    {
     "data": {
      "text/html": [
       "<div>\n",
       "<style scoped>\n",
       "    .dataframe tbody tr th:only-of-type {\n",
       "        vertical-align: middle;\n",
       "    }\n",
       "\n",
       "    .dataframe tbody tr th {\n",
       "        vertical-align: top;\n",
       "    }\n",
       "\n",
       "    .dataframe thead th {\n",
       "        text-align: right;\n",
       "    }\n",
       "</style>\n",
       "<table border=\"1\" class=\"dataframe\">\n",
       "  <thead>\n",
       "    <tr style=\"text-align: right;\">\n",
       "      <th></th>\n",
       "      <th>poste</th>\n",
       "      <th>experience</th>\n",
       "      <th>salaire_debut</th>\n",
       "      <th>salaire_actuel</th>\n",
       "      <th>satisfaction</th>\n",
       "    </tr>\n",
       "  </thead>\n",
       "  <tbody>\n",
       "    <tr>\n",
       "      <th>0</th>\n",
       "      <td>Developeur Backend</td>\n",
       "      <td>1 an</td>\n",
       "      <td>125000</td>\n",
       "      <td>125000</td>\n",
       "      <td>2</td>\n",
       "    </tr>\n",
       "    <tr>\n",
       "      <th>1</th>\n",
       "      <td>IT &amp; Data Analyste</td>\n",
       "      <td>3 à 5 ans</td>\n",
       "      <td>50000</td>\n",
       "      <td>420000</td>\n",
       "      <td>1</td>\n",
       "    </tr>\n",
       "    <tr>\n",
       "      <th>2</th>\n",
       "      <td>Développeur Android et python</td>\n",
       "      <td>2 ans</td>\n",
       "      <td>150000</td>\n",
       "      <td>150000</td>\n",
       "      <td>3</td>\n",
       "    </tr>\n",
       "    <tr>\n",
       "      <th>3</th>\n",
       "      <td>Développeur Web Frontend</td>\n",
       "      <td>Moins d'un an</td>\n",
       "      <td>100000</td>\n",
       "      <td>180000</td>\n",
       "      <td>2</td>\n",
       "    </tr>\n",
       "    <tr>\n",
       "      <th>4</th>\n",
       "      <td>Full stack web developer</td>\n",
       "      <td>1 an</td>\n",
       "      <td>150000</td>\n",
       "      <td>200000</td>\n",
       "      <td>3</td>\n",
       "    </tr>\n",
       "  </tbody>\n",
       "</table>\n",
       "</div>"
      ],
      "text/plain": [
       "                           poste     experience  salaire_debut  \\\n",
       "0             Developeur Backend           1 an         125000   \n",
       "1             IT & Data Analyste      3 à 5 ans          50000   \n",
       "2  Développeur Android et python          2 ans         150000   \n",
       "3       Développeur Web Frontend  Moins d'un an         100000   \n",
       "4       Full stack web developer           1 an         150000   \n",
       "\n",
       "   salaire_actuel  satisfaction  \n",
       "0          125000             2  \n",
       "1          420000             1  \n",
       "2          150000             3  \n",
       "3          180000             2  \n",
       "4          200000             3  "
      ]
     },
     "execution_count": 21,
     "metadata": {},
     "output_type": "execute_result"
    }
   ],
   "source": [
    "data.head()"
   ]
  },
  {
   "cell_type": "markdown",
   "metadata": {},
   "source": [
    "Commençons par les différents métiers en informatique qu'on a dans ce dataset :"
   ]
  },
  {
   "cell_type": "code",
   "execution_count": 22,
   "metadata": {},
   "outputs": [
    {
     "data": {
      "text/plain": [
       "array(['Developeur Backend', 'IT & Data Analyste',\n",
       "       'Développeur Android et python', 'Développeur Web Frontend',\n",
       "       'Full stack web developer', 'IT Project Manager ',\n",
       "       'UX/UI DESIGNER ', 'Développeur Front-end', 'Développeur Angular',\n",
       "       'Développeur web', 'DevOps', 'Lead developer',\n",
       "       'Développeur Web Full Stack', 'Full Stack Dev',\n",
       "       'Developer back-end', 'Développeur front end', 'Data Analyst ',\n",
       "       'Frontend dev', 'Devops', 'Project Manager Junior', 'Data Analyst',\n",
       "       'Développeur Web Backend', 'Chef de projet web et mobile',\n",
       "       'Développeur web et mobile ', 'Développeur Web',\n",
       "       'Big Data Manager', 'Manager', 'Développeur web et mobile',\n",
       "       'Chef Division Applications et Base de Données',\n",
       "       'Développeur Web FullStack et Mobile ',\n",
       "       'Ingénieur réseau, système et securité', 'Développeur JEE',\n",
       "       'Assistant technique ', 'Développeur Web (Back end et front end) '],\n",
       "      dtype=object)"
      ]
     },
     "execution_count": 22,
     "metadata": {},
     "output_type": "execute_result"
    }
   ],
   "source": [
    "data['poste'].unique()"
   ]
  },
  {
   "cell_type": "code",
   "execution_count": 23,
   "metadata": {},
   "outputs": [
    {
     "data": {
      "text/plain": [
       "34"
      ]
     },
     "execution_count": 23,
     "metadata": {},
     "output_type": "execute_result"
    }
   ],
   "source": [
    "data['poste'].nunique()"
   ]
  },
  {
   "cell_type": "markdown",
   "metadata": {},
   "source": [
    "Nous avons 34 entrées différentes qui peuvent être groupées en sous-catégories. Nous avons des désigner UX/UI, développeurs web, frontend, backend, fullstack, mobile, des Devops, des Data Analyst, des chefs de projets et autres. Nous allons essayer de faire des regroupements de ces différentes entrées selon les listes suivantes :"
   ]
  },
  {
   "cell_type": "code",
   "execution_count": 24,
   "metadata": {},
   "outputs": [],
   "source": [
    "group = {\n",
    "   \n",
    "\"dev_frontend\" : [\"Développeur Front-end\", \"Développeur Angular\",\"Développeur front end\", \"Frontend dev\", \"Développeur Web Frontend\"],\n",
    "\"dev_backend\" : [\"Developeur Backend\", \"Developer back-end\", \"Développeur Web Backend\", \"Développeur JEE\"],\n",
    "\"fullstack\" : [\"Full stack web developer\", \"Développeur Web Full Stack\", \"Full Stack Dev\", \"Développeur Web FullStack et Mobile \", \"Développeur Web (Back end et front end) \"],\n",
    "\"dev_web\" : ['Développeur web', \"Développeur Web\"],\n",
    "\"mobile\" : [\"Développeur web et mobile \", \"Développeur web et mobile\", \"Développeur Android et python\"],\n",
    "\"data_analyst\" : [\"Data Analyst \", \"Data Analyst\", \"IT & Data Analyste\"],\n",
    "\"manager\" : [\"IT Project Manager \", \"Lead developer\", \"Project Manager Junior\", \"Big Data Manager\", \"Chef Division Applications et Base de Données\", \"Manager\", \"Chef de projet web et mobile\"],\n",
    "\"reseau_sécurite\" : [\"Ingénieur réseau, système et securité\"],\n",
    "\"devops\" : ['DevOps', \"Devops\"],\n",
    "\"autres\" : ['Assistant technique '],\n",
    "\"designer\" : ['UX/UI DESIGNER ']\n",
    "\n",
    "}"
   ]
  },
  {
   "cell_type": "code",
   "execution_count": 25,
   "metadata": {},
   "outputs": [],
   "source": [
    "metiers = []\n",
    "\n",
    "for i, row in data.iterrows():\n",
    "    for metier in group:\n",
    "        if row.poste in group[metier]:\n",
    "            metiers.append(metier)\n",
    "            break"
   ]
  },
  {
   "cell_type": "code",
   "execution_count": 26,
   "metadata": {},
   "outputs": [],
   "source": [
    "data['metiers'] = metiers"
   ]
  },
  {
   "cell_type": "code",
   "execution_count": 27,
   "metadata": {},
   "outputs": [
    {
     "data": {
      "text/html": [
       "<div>\n",
       "<style scoped>\n",
       "    .dataframe tbody tr th:only-of-type {\n",
       "        vertical-align: middle;\n",
       "    }\n",
       "\n",
       "    .dataframe tbody tr th {\n",
       "        vertical-align: top;\n",
       "    }\n",
       "\n",
       "    .dataframe thead th {\n",
       "        text-align: right;\n",
       "    }\n",
       "</style>\n",
       "<table border=\"1\" class=\"dataframe\">\n",
       "  <thead>\n",
       "    <tr style=\"text-align: right;\">\n",
       "      <th></th>\n",
       "      <th>poste</th>\n",
       "      <th>experience</th>\n",
       "      <th>salaire_debut</th>\n",
       "      <th>salaire_actuel</th>\n",
       "      <th>satisfaction</th>\n",
       "      <th>metiers</th>\n",
       "    </tr>\n",
       "  </thead>\n",
       "  <tbody>\n",
       "    <tr>\n",
       "      <th>0</th>\n",
       "      <td>Developeur Backend</td>\n",
       "      <td>1 an</td>\n",
       "      <td>125000</td>\n",
       "      <td>125000</td>\n",
       "      <td>2</td>\n",
       "      <td>dev_backend</td>\n",
       "    </tr>\n",
       "    <tr>\n",
       "      <th>1</th>\n",
       "      <td>IT &amp; Data Analyste</td>\n",
       "      <td>3 à 5 ans</td>\n",
       "      <td>50000</td>\n",
       "      <td>420000</td>\n",
       "      <td>1</td>\n",
       "      <td>data_analyst</td>\n",
       "    </tr>\n",
       "    <tr>\n",
       "      <th>2</th>\n",
       "      <td>Développeur Android et python</td>\n",
       "      <td>2 ans</td>\n",
       "      <td>150000</td>\n",
       "      <td>150000</td>\n",
       "      <td>3</td>\n",
       "      <td>mobile</td>\n",
       "    </tr>\n",
       "    <tr>\n",
       "      <th>3</th>\n",
       "      <td>Développeur Web Frontend</td>\n",
       "      <td>Moins d'un an</td>\n",
       "      <td>100000</td>\n",
       "      <td>180000</td>\n",
       "      <td>2</td>\n",
       "      <td>dev_frontend</td>\n",
       "    </tr>\n",
       "    <tr>\n",
       "      <th>4</th>\n",
       "      <td>Full stack web developer</td>\n",
       "      <td>1 an</td>\n",
       "      <td>150000</td>\n",
       "      <td>200000</td>\n",
       "      <td>3</td>\n",
       "      <td>fullstack</td>\n",
       "    </tr>\n",
       "  </tbody>\n",
       "</table>\n",
       "</div>"
      ],
      "text/plain": [
       "                           poste     experience  salaire_debut  \\\n",
       "0             Developeur Backend           1 an         125000   \n",
       "1             IT & Data Analyste      3 à 5 ans          50000   \n",
       "2  Développeur Android et python          2 ans         150000   \n",
       "3       Développeur Web Frontend  Moins d'un an         100000   \n",
       "4       Full stack web developer           1 an         150000   \n",
       "\n",
       "   salaire_actuel  satisfaction       metiers  \n",
       "0          125000             2   dev_backend  \n",
       "1          420000             1  data_analyst  \n",
       "2          150000             3        mobile  \n",
       "3          180000             2  dev_frontend  \n",
       "4          200000             3     fullstack  "
      ]
     },
     "execution_count": 27,
     "metadata": {},
     "output_type": "execute_result"
    }
   ],
   "source": [
    "data.head()"
   ]
  },
  {
   "cell_type": "code",
   "execution_count": 28,
   "metadata": {},
   "outputs": [
    {
     "data": {
      "text/plain": [
       "array(['dev_backend', 'data_analyst', 'mobile', 'dev_frontend',\n",
       "       'fullstack', 'manager', 'designer', 'dev_web', 'devops',\n",
       "       'reseau_sécurite', 'autres'], dtype=object)"
      ]
     },
     "execution_count": 28,
     "metadata": {},
     "output_type": "execute_result"
    }
   ],
   "source": [
    "data['metiers'].unique()"
   ]
  },
  {
   "cell_type": "code",
   "execution_count": 29,
   "metadata": {},
   "outputs": [],
   "source": [
    "data.to_csv('salary.csv', index=False)"
   ]
  },
  {
   "cell_type": "markdown",
   "metadata": {},
   "source": [
    "Nous avons désormais des sous-groupes de métiers informatiques qui peuvent nous permettre de mieux les connaitre et analyser. Vous pouvez modifier mon dictionnaire groupe pour avoir une autre type de groupes.\n",
    "\n",
    "Nous allons continuer cette analyse en répondant à des questions pertinentes."
   ]
  },
  {
   "cell_type": "markdown",
   "metadata": {},
   "source": [
    "# Analyse globale des salaires en informatique"
   ]
  },
  {
   "cell_type": "code",
   "execution_count": 30,
   "metadata": {},
   "outputs": [
    {
     "data": {
      "text/html": [
       "<div>\n",
       "<style scoped>\n",
       "    .dataframe tbody tr th:only-of-type {\n",
       "        vertical-align: middle;\n",
       "    }\n",
       "\n",
       "    .dataframe tbody tr th {\n",
       "        vertical-align: top;\n",
       "    }\n",
       "\n",
       "    .dataframe thead th {\n",
       "        text-align: right;\n",
       "    }\n",
       "</style>\n",
       "<table border=\"1\" class=\"dataframe\">\n",
       "  <thead>\n",
       "    <tr style=\"text-align: right;\">\n",
       "      <th></th>\n",
       "      <th>poste</th>\n",
       "      <th>experience</th>\n",
       "      <th>salaire_debut</th>\n",
       "      <th>salaire_actuel</th>\n",
       "      <th>satisfaction</th>\n",
       "      <th>metiers</th>\n",
       "    </tr>\n",
       "  </thead>\n",
       "  <tbody>\n",
       "    <tr>\n",
       "      <th>0</th>\n",
       "      <td>Developeur Backend</td>\n",
       "      <td>1 an</td>\n",
       "      <td>125000</td>\n",
       "      <td>125000</td>\n",
       "      <td>2</td>\n",
       "      <td>dev_backend</td>\n",
       "    </tr>\n",
       "    <tr>\n",
       "      <th>1</th>\n",
       "      <td>IT &amp; Data Analyste</td>\n",
       "      <td>3 à 5 ans</td>\n",
       "      <td>50000</td>\n",
       "      <td>420000</td>\n",
       "      <td>1</td>\n",
       "      <td>data_analyst</td>\n",
       "    </tr>\n",
       "    <tr>\n",
       "      <th>2</th>\n",
       "      <td>Développeur Android et python</td>\n",
       "      <td>2 ans</td>\n",
       "      <td>150000</td>\n",
       "      <td>150000</td>\n",
       "      <td>3</td>\n",
       "      <td>mobile</td>\n",
       "    </tr>\n",
       "    <tr>\n",
       "      <th>3</th>\n",
       "      <td>Développeur Web Frontend</td>\n",
       "      <td>Moins d'un an</td>\n",
       "      <td>100000</td>\n",
       "      <td>180000</td>\n",
       "      <td>2</td>\n",
       "      <td>dev_frontend</td>\n",
       "    </tr>\n",
       "    <tr>\n",
       "      <th>4</th>\n",
       "      <td>Full stack web developer</td>\n",
       "      <td>1 an</td>\n",
       "      <td>150000</td>\n",
       "      <td>200000</td>\n",
       "      <td>3</td>\n",
       "      <td>fullstack</td>\n",
       "    </tr>\n",
       "  </tbody>\n",
       "</table>\n",
       "</div>"
      ],
      "text/plain": [
       "                           poste     experience  salaire_debut  \\\n",
       "0             Developeur Backend           1 an         125000   \n",
       "1             IT & Data Analyste      3 à 5 ans          50000   \n",
       "2  Développeur Android et python          2 ans         150000   \n",
       "3       Développeur Web Frontend  Moins d'un an         100000   \n",
       "4       Full stack web developer           1 an         150000   \n",
       "\n",
       "   salaire_actuel  satisfaction       metiers  \n",
       "0          125000             2   dev_backend  \n",
       "1          420000             1  data_analyst  \n",
       "2          150000             3        mobile  \n",
       "3          180000             2  dev_frontend  \n",
       "4          200000             3     fullstack  "
      ]
     },
     "execution_count": 30,
     "metadata": {},
     "output_type": "execute_result"
    }
   ],
   "source": [
    "data.head()"
   ]
  },
  {
   "cell_type": "code",
   "execution_count": 31,
   "metadata": {},
   "outputs": [
    {
     "data": {
      "text/plain": [
       "(38, 6)"
      ]
     },
     "execution_count": 31,
     "metadata": {},
     "output_type": "execute_result"
    }
   ],
   "source": [
    "data.shape"
   ]
  },
  {
   "cell_type": "markdown",
   "metadata": {},
   "source": [
    "### Les metiers\n",
    "\n",
    "voici les differents metiers informatique que nous avons dans notre dataset"
   ]
  },
  {
   "cell_type": "code",
   "execution_count": 32,
   "metadata": {},
   "outputs": [
    {
     "data": {
      "text/plain": [
       "array(['dev_backend', 'data_analyst', 'mobile', 'dev_frontend',\n",
       "       'fullstack', 'manager', 'designer', 'dev_web', 'devops',\n",
       "       'reseau_sécurite', 'autres'], dtype=object)"
      ]
     },
     "execution_count": 32,
     "metadata": {},
     "output_type": "execute_result"
    }
   ],
   "source": [
    "data['metiers'].unique()"
   ]
  },
  {
   "cell_type": "markdown",
   "metadata": {},
   "source": [
    "Determinons la proportions de chaque metier "
   ]
  },
  {
   "cell_type": "code",
   "execution_count": 33,
   "metadata": {},
   "outputs": [
    {
     "data": {
      "image/png": "[encoded data removed]",
      "text/plain": [
       "<Figure size 1000x800 with 1 Axes>"
      ]
     },
     "metadata": {},
     "output_type": "display_data"
    }
   ],
   "source": [
    "plt.figure(figsize=(10,8))\n",
    "sns.countplot(y='metiers',\n",
    "              data= data,\n",
    "              order= data['metiers'].value_counts().index)\n",
    "plt.title('Les differents metiers')\n",
    "plt.savefig('metiers_count.png')\n",
    "plt.show()"
   ]
  },
  {
   "cell_type": "markdown",
   "metadata": {},
   "source": [
    "On remarque que le poste de manager qui comprend les chefs projets, lead developer et autres est le plus fréquent avec 7 reponses. S\"en suivent les metiers de developpeur frontend, fullstack, backend. Il s'agit là réellement du métier le plus fréquent si on devrait les mettre dans un même groupe. Il est à noter que nous avons egalment des data analysts, devops, designer et ingenieurs réseau sécurité aussi mais en faible proportions.\n",
    "\n",
    "jetons maintenant un coup d'oeil au nombre d'experience des informations de notre enquête :"
   ]
  },
  {
   "cell_type": "markdown",
   "metadata": {},
   "source": [
    "### L'expérience"
   ]
  },
  {
   "cell_type": "code",
   "execution_count": 35,
   "metadata": {},
   "outputs": [
    {
     "data": {
      "text/plain": [
       "array(['1 an', '3 à 5 ans', '2 ans', \"Moins d'un an\", 'Plus de 5 ans',\n",
       "       \"Stagiaire, Moins d'un an\", 'Stagiaire', 'Plus de 10 ans'],\n",
       "      dtype=object)"
      ]
     },
     "execution_count": 35,
     "metadata": {},
     "output_type": "execute_result"
    }
   ],
   "source": [
    "data['experience'].unique()"
   ]
  },
  {
   "cell_type": "markdown",
   "metadata": {},
   "source": [
    "etablissons l'ordre de ces differentes catrégories"
   ]
  },
  {
   "cell_type": "code",
   "execution_count": 38,
   "metadata": {},
   "outputs": [],
   "source": [
    "exp_order = [\"Plus de 10 ans\", \"Plus de 5 ans\", \"3 à 5 ans\", \"2 ans\", \"1 an\", \"Moins d'un an\", \"Stagiaire\", \"Stagiaire, Moins d'un an\", ]"
   ]
  },
  {
   "cell_type": "code",
   "execution_count": 39,
   "metadata": {},
   "outputs": [
    {
     "data": {
      "image/png": "[encoded data removed]",
      "text/plain": [
       "<Figure size 1000x800 with 1 Axes>"
      ]
     },
     "metadata": {},
     "output_type": "display_data"
    }
   ],
   "source": [
    "plt.figure(figsize=(10, 8))\n",
    "sns.countplot(y = 'experience',\n",
    "              data = data,\n",
    "              order = exp_order)\n",
    "plt.title(\"Nombre d'année d'experience\")\n",
    "plt.savefig('exp_count.png')\n",
    "plt.show()"
   ]
  },
  {
   "cell_type": "markdown",
   "metadata": {},
   "source": [
    "La plupart des informaticiens de notre dataset ont entre 3 et 5 ans d'expérience. Ceci parait normal vu le nombre de personnes à des postes managériales, possible après 3 ou 4 ans d'expériences. Nous avons en seconde position, plusieurs développeurs avec 2 ans d'expérience et en 3ème position ceux et celles qui viennent de débuter leur carrière avec moins d'un an d'expérience. Nous avons aussi 2 stagiaires. Cette diversité d'expérience peut nous permettre de mieux apprécier plus tard, les salaires et différents niveaux de satisfactions selon les groupes."
   ]
  },
  {
   "cell_type": "markdown",
   "metadata": {},
   "source": [
    "### Les salaires\n",
    "\n",
    "Nous avons les salaires en début de carrière et les salaires actuels des 38 informaticiens de notre jeu de données. Quelle est la distribution des salaires ? Quel est le minimum ? maximum ? median ?"
   ]
  },
  {
   "cell_type": "code",
   "execution_count": 44,
   "metadata": {},
   "outputs": [
    {
     "name": "stderr",
     "output_type": "stream",
     "text": [
      "c:\\Users\\Dell\\anaconda3\\Lib\\site-packages\\seaborn\\axisgrid.py:118: UserWarning: The figure layout has changed to tight\n",
      "  self._figure.tight_layout(*args, **kwargs)\n"
     ]
    },
    {
     "data": {
      "text/plain": [
       "<Figure size 1000x800 with 0 Axes>"
      ]
     },
     "metadata": {},
     "output_type": "display_data"
    },
    {
     "data": {
      "image/png": "[encoded data removed]",
      "text/plain": [
       "<Figure size 500x500 with 1 Axes>"
      ]
     },
     "metadata": {},
     "output_type": "display_data"
    }
   ],
   "source": [
    "plt.figure(figsize=(10, 8))\n",
    "sns.displot(data['salaire_debut'],kde=False, hue_norm=False, color=\"Blue\")\n",
    "plt.title(\"Salaire des informaticiens au debut de leur carriere\")\n",
    "plt.savefig('salaire_debut.png')\n",
    "plt.show()"
   ]
  },
  {
   "cell_type": "code",
   "execution_count": 45,
   "metadata": {},
   "outputs": [
    {
     "data": {
      "text/plain": [
       "count        38.000000\n",
       "mean     112982.236842\n",
       "std       92605.979264\n",
       "min           0.000000\n",
       "25%       50000.000000\n",
       "50%      100000.000000\n",
       "75%      143750.000000\n",
       "max      400000.000000\n",
       "Name: salaire_debut, dtype: float64"
      ]
     },
     "execution_count": 45,
     "metadata": {},
     "output_type": "execute_result"
    }
   ],
   "source": [
    "data[\"salaire_debut\"].describe()"
   ]
  },
  {
   "cell_type": "markdown",
   "metadata": {},
   "source": [
    "Nous pouvons remarquer qu'au début de leur carrière, le salaire des informaticiens au Bénin est entre 50 000 et 150 000 avec la médiane à 100 000. Nous avons cependant quelques cas particuliers avec 0 et 400 000 comme salaire de débutant. Investiguons :"
   ]
  },
  {
   "cell_type": "code",
   "execution_count": 46,
   "metadata": {},
   "outputs": [
    {
     "data": {
      "text/html": [
       "<div>\n",
       "<style scoped>\n",
       "    .dataframe tbody tr th:only-of-type {\n",
       "        vertical-align: middle;\n",
       "    }\n",
       "\n",
       "    .dataframe tbody tr th {\n",
       "        vertical-align: top;\n",
       "    }\n",
       "\n",
       "    .dataframe thead th {\n",
       "        text-align: right;\n",
       "    }\n",
       "</style>\n",
       "<table border=\"1\" class=\"dataframe\">\n",
       "  <thead>\n",
       "    <tr style=\"text-align: right;\">\n",
       "      <th></th>\n",
       "      <th>poste</th>\n",
       "      <th>experience</th>\n",
       "      <th>salaire_debut</th>\n",
       "      <th>salaire_actuel</th>\n",
       "      <th>satisfaction</th>\n",
       "      <th>metiers</th>\n",
       "    </tr>\n",
       "  </thead>\n",
       "  <tbody>\n",
       "    <tr>\n",
       "      <th>23</th>\n",
       "      <td>Chef de projet web et mobile</td>\n",
       "      <td>3 à 5 ans</td>\n",
       "      <td>400000</td>\n",
       "      <td>1000000</td>\n",
       "      <td>3</td>\n",
       "      <td>manager</td>\n",
       "    </tr>\n",
       "    <tr>\n",
       "      <th>33</th>\n",
       "      <td>Ingénieur réseau, système et securité</td>\n",
       "      <td>Plus de 5 ans</td>\n",
       "      <td>400000</td>\n",
       "      <td>500000</td>\n",
       "      <td>2</td>\n",
       "      <td>reseau_sécurite</td>\n",
       "    </tr>\n",
       "    <tr>\n",
       "      <th>37</th>\n",
       "      <td>Développeur web</td>\n",
       "      <td>1 an</td>\n",
       "      <td>0</td>\n",
       "      <td>40000</td>\n",
       "      <td>1</td>\n",
       "      <td>dev_web</td>\n",
       "    </tr>\n",
       "  </tbody>\n",
       "</table>\n",
       "</div>"
      ],
      "text/plain": [
       "                                    poste     experience  salaire_debut  \\\n",
       "23           Chef de projet web et mobile      3 à 5 ans         400000   \n",
       "33  Ingénieur réseau, système et securité  Plus de 5 ans         400000   \n",
       "37                        Développeur web           1 an              0   \n",
       "\n",
       "    salaire_actuel  satisfaction          metiers  \n",
       "23         1000000             3          manager  \n",
       "33          500000             2  reseau_sécurite  \n",
       "37           40000             1          dev_web  "
      ]
     },
     "execution_count": 46,
     "metadata": {},
     "output_type": "execute_result"
    }
   ],
   "source": [
    "data[(data['salaire_debut']== 0) | (data['salaire_debut'] == 400000)]"
   ]
  },
  {
   "cell_type": "markdown",
   "metadata": {},
   "source": [
    "Il s'agit donc d'un chef de projet Web et mobile et d'un Ingénieur réseau, dont le salaire au début était à 400 000. Depuis ceux-ci sont passés respectivement à 1 million et 500 000. Passons justement aux salaires actuels des informaticiens."
   ]
  },
  {
   "cell_type": "code",
   "execution_count": 48,
   "metadata": {},
   "outputs": [
    {
     "name": "stderr",
     "output_type": "stream",
     "text": [
      "c:\\Users\\Dell\\anaconda3\\Lib\\site-packages\\seaborn\\axisgrid.py:118: UserWarning: The figure layout has changed to tight\n",
      "  self._figure.tight_layout(*args, **kwargs)\n"
     ]
    },
    {
     "data": {
      "text/plain": [
       "<Figure size 1000x800 with 0 Axes>"
      ]
     },
     "metadata": {},
     "output_type": "display_data"
    },
    {
     "data": {
      "image/png": "[encoded data removed]",
      "text/plain": [
       "<Figure size 500x500 with 1 Axes>"
      ]
     },
     "metadata": {},
     "output_type": "display_data"
    }
   ],
   "source": [
    "plt.figure(figsize=(10, 8))\n",
    "sns.displot(data['salaire_actuel'], kde=False, color='red')\n",
    "plt.title(\"Salaire actuel des informaticens\")\n",
    "plt.savefig(\"salaire_actuel.png\")\n",
    "plt.show()"
   ]
  },
  {
   "cell_type": "code",
   "execution_count": 49,
   "metadata": {},
   "outputs": [
    {
     "data": {
      "text/plain": [
       "count         38.000000\n",
       "mean      306745.894737\n",
       "std       246525.329694\n",
       "min        40000.000000\n",
       "25%       150000.000000\n",
       "50%       200000.000000\n",
       "75%       415000.000000\n",
       "max      1000000.000000\n",
       "Name: salaire_actuel, dtype: float64"
      ]
     },
     "execution_count": 49,
     "metadata": {},
     "output_type": "execute_result"
    }
   ],
   "source": [
    "data[\"salaire_actuel\"].describe()"
   ]
  }
 ],
 "metadata": {
  "kernelspec": {
   "display_name": "base",
   "language": "python",
   "name": "python3"
  },
  "language_info": {
   "codemirror_mode": {
    "name": "ipython",
    "version": 3
   },
   "file_extension": ".py",
   "mimetype": "text/x-python",
   "name": "python",
   "nbconvert_exporter": "python",
   "pygments_lexer": "ipython3",
   "version": "3.11.5"
  }
 },
 "nbformat": 4,
 "nbformat_minor": 2
}
